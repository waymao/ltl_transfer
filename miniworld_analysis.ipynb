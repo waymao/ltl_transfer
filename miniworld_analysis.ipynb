{
 "cells": [
  {
   "cell_type": "code",
   "execution_count": 9,
   "metadata": {},
   "outputs": [],
   "source": [
    "import pandas as pd\n",
    "from matplotlib import pyplot as plt\n",
    "import seaborn as sns\n",
    "sns.set_style(\"dark\")"
   ]
  },
  {
   "cell_type": "code",
   "execution_count": 10,
   "metadata": {},
   "outputs": [],
   "source": [
    "map_file = \"experiments/maps/map_10.txt\""
   ]
  },
  {
   "cell_type": "code",
   "execution_count": 11,
   "metadata": {},
   "outputs": [],
   "source": [
    "from src.envs.miniworld.constants import OBJ_MAP, OBSTACLE_MARKER, BLOCK_SCALE\n",
    "offset = 0.5\n",
    "def read_miniworld_map(map_file):\n",
    "    shapes = []\n",
    "    height = 0\n",
    "    width = 0\n",
    "    with open(map_file, 'r') as f:\n",
    "        map_mat = f.readlines()\n",
    "    size = len(map_mat)\n",
    "    print(size)\n",
    "    for i, l in enumerate(map_mat):\n",
    "        # I don't consider empty lines!\n",
    "        l_stripped = l.rstrip()\n",
    "        if len(l.rstrip()) == 0: continue\n",
    "\n",
    "        # this is not an empty line!\n",
    "        height += 1\n",
    "        for j, e in enumerate(l_stripped):\n",
    "            if e in OBJ_MAP.keys():\n",
    "                Entity, color = OBJ_MAP[e]\n",
    "                if e == OBSTACLE_MARKER:\n",
    "                    shapes.append(plt.Rectangle((j - offset, size - 1 - i - offset), BLOCK_SCALE, BLOCK_SCALE, fc=color))\n",
    "                elif Entity.__name__ == \"Ball\":\n",
    "                    shapes.append(plt.Circle((j - offset, size - 1 - i - offset), BLOCK_SCALE * 0.6, fc=color))\n",
    "                elif Entity.__name__ == \"Box\":\n",
    "                    shapes.append(plt.Rectangle((j - offset, size - 1 - i - offset), BLOCK_SCALE * 0.6, BLOCK_SCALE * 0.6, fc=color))\n",
    "\n",
    "        width = max(width, len(l_stripped))\n",
    "    return shapes, height, width"
   ]
  },
  {
   "cell_type": "markdown",
   "metadata": {},
   "source": []
  },
  {
   "cell_type": "code",
   "execution_count": 24,
   "metadata": {},
   "outputs": [],
   "source": [
    "# df = pd.read_csv(\"success_map copy.csv\")\n",
    "df = pd.read_csv(\"results/miniworld_minecraft/sequence_p1.0/lpopl_dsac/map10/6/success_map.csv\")"
   ]
  },
  {
   "cell_type": "code",
   "execution_count": 25,
   "metadata": {},
   "outputs": [
    {
     "name": "stdout",
     "output_type": "stream",
     "text": [
      "8\n"
     ]
    }
   ],
   "source": [
    "shapes, height, width = read_miniworld_map(map_file)\n",
    "df['y'] = height - 1 - df['y']"
   ]
  },
  {
   "cell_type": "code",
   "execution_count": 26,
   "metadata": {},
   "outputs": [
    {
     "data": {
      "text/html": [
       "<div>\n",
       "<style scoped>\n",
       "    .dataframe tbody tr th:only-of-type {\n",
       "        vertical-align: middle;\n",
       "    }\n",
       "\n",
       "    .dataframe tbody tr th {\n",
       "        vertical-align: top;\n",
       "    }\n",
       "\n",
       "    .dataframe thead th {\n",
       "        text-align: right;\n",
       "    }\n",
       "</style>\n",
       "<table border=\"1\" class=\"dataframe\">\n",
       "  <thead>\n",
       "    <tr style=\"text-align: right;\">\n",
       "      <th></th>\n",
       "      <th>task</th>\n",
       "      <th>x</th>\n",
       "      <th>y</th>\n",
       "      <th>success</th>\n",
       "      <th>final_ltl</th>\n",
       "      <th>len</th>\n",
       "      <th>global_step</th>\n",
       "      <th>time</th>\n",
       "    </tr>\n",
       "  </thead>\n",
       "  <tbody>\n",
       "    <tr>\n",
       "      <th>0</th>\n",
       "      <td>('until', 'True', ('and', 'b', ('until', 'True...</td>\n",
       "      <td>5.752376</td>\n",
       "      <td>1.484230</td>\n",
       "      <td>False</td>\n",
       "      <td>('until', 'True', 'a')</td>\n",
       "      <td>1000</td>\n",
       "      <td>1001</td>\n",
       "      <td>1.701432e+09</td>\n",
       "    </tr>\n",
       "    <tr>\n",
       "      <th>1</th>\n",
       "      <td>('until', 'True', ('and', 'b', ('until', 'True...</td>\n",
       "      <td>1.196080</td>\n",
       "      <td>5.616529</td>\n",
       "      <td>False</td>\n",
       "      <td>('until', 'True', ('and', 'b', ('until', 'True...</td>\n",
       "      <td>1000</td>\n",
       "      <td>2002</td>\n",
       "      <td>1.701432e+09</td>\n",
       "    </tr>\n",
       "    <tr>\n",
       "      <th>2</th>\n",
       "      <td>('until', 'True', ('and', 'b', ('until', 'True...</td>\n",
       "      <td>1.263192</td>\n",
       "      <td>2.008899</td>\n",
       "      <td>True</td>\n",
       "      <td>True</td>\n",
       "      <td>751</td>\n",
       "      <td>2754</td>\n",
       "      <td>1.701432e+09</td>\n",
       "    </tr>\n",
       "    <tr>\n",
       "      <th>3</th>\n",
       "      <td>('until', 'True', ('and', 'b', ('until', 'True...</td>\n",
       "      <td>2.691888</td>\n",
       "      <td>1.888553</td>\n",
       "      <td>True</td>\n",
       "      <td>True</td>\n",
       "      <td>619</td>\n",
       "      <td>3374</td>\n",
       "      <td>1.701432e+09</td>\n",
       "    </tr>\n",
       "    <tr>\n",
       "      <th>4</th>\n",
       "      <td>('until', 'True', ('and', 'b', ('until', 'True...</td>\n",
       "      <td>2.893992</td>\n",
       "      <td>4.840180</td>\n",
       "      <td>True</td>\n",
       "      <td>True</td>\n",
       "      <td>173</td>\n",
       "      <td>3548</td>\n",
       "      <td>1.701432e+09</td>\n",
       "    </tr>\n",
       "  </tbody>\n",
       "</table>\n",
       "</div>"
      ],
      "text/plain": [
       "                                                task         x         y  \\\n",
       "0  ('until', 'True', ('and', 'b', ('until', 'True...  5.752376  1.484230   \n",
       "1  ('until', 'True', ('and', 'b', ('until', 'True...  1.196080  5.616529   \n",
       "2  ('until', 'True', ('and', 'b', ('until', 'True...  1.263192  2.008899   \n",
       "3  ('until', 'True', ('and', 'b', ('until', 'True...  2.691888  1.888553   \n",
       "4  ('until', 'True', ('and', 'b', ('until', 'True...  2.893992  4.840180   \n",
       "\n",
       "   success                                          final_ltl   len  \\\n",
       "0    False                             ('until', 'True', 'a')  1000   \n",
       "1    False  ('until', 'True', ('and', 'b', ('until', 'True...  1000   \n",
       "2     True                                               True   751   \n",
       "3     True                                               True   619   \n",
       "4     True                                               True   173   \n",
       "\n",
       "   global_step          time  \n",
       "0         1001  1.701432e+09  \n",
       "1         2002  1.701432e+09  \n",
       "2         2754  1.701432e+09  \n",
       "3         3374  1.701432e+09  \n",
       "4         3548  1.701432e+09  "
      ]
     },
     "execution_count": 26,
     "metadata": {},
     "output_type": "execute_result"
    }
   ],
   "source": [
    "df.head()"
   ]
  },
  {
   "cell_type": "code",
   "execution_count": 27,
   "metadata": {},
   "outputs": [
    {
     "data": {
      "image/png": "[encoded data removed]",
      "text/plain": [
       "<Figure size 640x480 with 1 Axes>"
      ]
     },
     "metadata": {},
     "output_type": "display_data"
    }
   ],
   "source": [
    "df_success = df[df['success']]\n",
    "df_half = df[df['final_ltl'] != df['task']]\n",
    "ax = sns.scatterplot(data=df, x=\"x\", y=\"y\", hue=\"final_ltl\", legend=\"brief\", marker='X')\n",
    "sns.move_legend(ax, 'upper left', bbox_to_anchor=(1, 1))\n",
    "for shape in shapes:\n",
    "    plt.gca().add_patch(shape)\n",
    "ax.set_xlim([-offset, width-offset])\n",
    "ax.set_ylim([-offset, height-offset])\n",
    "ax.set_aspect('equal', adjustable='box')\n"
   ]
  },
  {
   "cell_type": "code",
   "execution_count": null,
   "metadata": {},
   "outputs": [],
   "source": []
  },
  {
   "cell_type": "code",
   "execution_count": null,
   "metadata": {},
   "outputs": [],
   "source": []
  }
 ],
 "metadata": {
  "kernelspec": {
   "display_name": "ltl",
   "language": "python",
   "name": "python3"
  },
  "language_info": {
   "codemirror_mode": {
    "name": "ipython",
    "version": 3
   },
   "file_extension": ".py",
   "mimetype": "text/x-python",
   "name": "python",
   "nbconvert_exporter": "python",
   "pygments_lexer": "ipython3",
   "version": "3.11.5"
  }
 },
 "nbformat": 4,
 "nbformat_minor": 2
}
