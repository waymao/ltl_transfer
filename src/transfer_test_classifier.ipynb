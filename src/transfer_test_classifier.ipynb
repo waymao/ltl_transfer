{
 "cells": [
  {
   "cell_type": "code",
   "execution_count": 1,
   "metadata": {},
   "outputs": [],
   "source": [
    "%load_ext autoreload\n",
    "%autoreload 2"
   ]
  },
  {
   "cell_type": "code",
   "execution_count": 2,
   "metadata": {},
   "outputs": [],
   "source": [
    "from classifiers.nn_classifier import NNClassifier\n",
    "from classifiers import NaiveMatcher"
   ]
  },
  {
   "cell_type": "code",
   "execution_count": 3,
   "metadata": {},
   "outputs": [
    {
     "name": "stdout",
     "output_type": "stream",
     "text": [
      "Edge count: 5\n",
      "Possible Edges: {('!a&!c&!d&!s', '!a&!c&!d&!s'): 0, ('!a&!c&!d&!s', 'a&!c&!d&!s'): 1, ('!a&!c&!d&!s', 's&!a&!c&!d'): 2, ('!a&!c&!d&!s', 'd&!a&!c&!s'): 3, ('!a&!c&!d&!s', 'c&!a&!d&!s'): 4}\n",
      "predicted result before train: {('!a&!c&!d&!s', '!a&!c&!d&!s'): (0.1621628850698471, -0.36522072553634644), ('!a&!c&!d&!s', 'a&!c&!d&!s'): (0.2144271582365036, -0.36522072553634644), ('!a&!c&!d&!s', 's&!a&!c&!d'): (0.1738598346710205, -0.36522072553634644), ('!a&!c&!d&!s', 'd&!a&!c&!s'): (0.17704856395721436, -0.36522072553634644), ('!a&!c&!d&!s', 'c&!a&!d&!s'): (0.2725015878677368, -0.36522072553634644)}\n",
      "iter 1 loss_outcome_train: 0.7370016666975888 acc_train: 0.6971275210380554 loss_test: 0.5492308735847473 acc_test: 0.7717305421829224 lr: [0.01]\n",
      "iter 2 loss_outcome_train: 0.5209026558832689 acc_train: 0.7817550897598267 loss_test: 0.5591049194335938 acc_test: 0.7520352005958557 lr: [0.01]\n",
      "iter 3 loss_outcome_train: 0.5005386693911119 acc_train: 0.7973800897598267 loss_test: 0.5302039384841919 acc_test: 0.7923450469970703 lr: [0.01]\n",
      "iter 4 loss_outcome_train: 0.4661053305322474 acc_train: 0.8041982650756836 loss_test: 0.46423715353012085 acc_test: 0.8119091391563416 lr: [0.01]\n",
      "iter 5 loss_outcome_train: 0.43868706524372103 acc_train: 0.8203914165496826 loss_test: 0.4695952832698822 acc_test: 0.7986475825309753 lr: [0.01]\n",
      "iter 100 loss_outcome_train: 0.3160946103659543 acc_train: 0.8687184453010559 loss_test: 0.34465497732162476 acc_test: 0.8642331957817078 lr: [0.01]\n",
      "iter 200 loss_outcome_train: 0.21871141940355301 acc_train: 0.9105113744735718 loss_test: 0.2735741138458252 acc_test: 0.8939732313156128 lr: [0.01]\n",
      "iter 300 loss_outcome_train: 0.20822377665476366 acc_train: 0.9184659123420715 loss_test: 0.31524237990379333 acc_test: 0.8808429837226868 lr: [0.002]\n",
      "iter 400 loss_outcome_train: 0.14950974841009487 acc_train: 0.9385732412338257 loss_test: 0.22671708464622498 acc_test: 0.9042804837226868 lr: [0.002]\n",
      "iter 500 loss_outcome_train: 0.13638829521157525 acc_train: 0.943718433380127 loss_test: 0.22751398384571075 acc_test: 0.9042804837226868 lr: [0.002]\n",
      "iter 600 loss_outcome_train: 0.13188304928216069 acc_train: 0.946811854839325 loss_test: 0.2256259024143219 acc_test: 0.9053965210914612 lr: [0.0004]\n",
      "iter 700 loss_outcome_train: 0.11581812771883877 acc_train: 0.9590908885002136 loss_test: 0.21231041848659515 acc_test: 0.9076286554336548 lr: [0.0004]\n",
      "iter 800 loss_outcome_train: 0.11523814621296796 acc_train: 0.9607954621315002 loss_test: 0.2130795270204544 acc_test: 0.9042804837226868 lr: [0.0004]\n",
      "iter 900 loss_outcome_train: 0.11523732570084659 acc_train: 0.9582070708274841 loss_test: 0.2121063768863678 acc_test: 0.9042804837226868 lr: [8e-05]\n",
      "iter 1000 loss_outcome_train: 0.10823819185183807 acc_train: 0.9607954621315002 loss_test: 0.21273908019065857 acc_test: 0.9031643867492676 lr: [8e-05]\n",
      "iter 1100 loss_outcome_train: 0.10787227407775142 acc_train: 0.9619318246841431 loss_test: 0.2117888629436493 acc_test: 0.9053965210914612 lr: [8e-05]\n",
      "iter 1200 loss_outcome_train: 0.10861609876155853 acc_train: 0.9619318246841431 loss_test: 0.21277384459972382 acc_test: 0.9031643867492676 lr: [1.6000000000000003e-05]\n",
      "iter 1300 loss_outcome_train: 0.1067884030751884 acc_train: 0.9616477489471436 loss_test: 0.21218657493591309 acc_test: 0.9042804837226868 lr: [1.6000000000000003e-05]\n",
      "iter 1400 loss_outcome_train: 0.10869379449974406 acc_train: 0.9604797959327698 loss_test: 0.21209716796875 acc_test: 0.9031643867492676 lr: [1.6000000000000003e-05]\n",
      "iter 1500 loss_outcome_train: 0.1082425903190266 acc_train: 0.9619318246841431 loss_test: 0.21199588477611542 acc_test: 0.9042804837226868 lr: [3.2000000000000007e-06]\n",
      "iter 1 loss_len: 870716.2869318182 loss_len_test: 635184.0625 lr: [0.01]\n",
      "iter 2 loss_len: 470378.98977272725 loss_len_test: 394229.28125 lr: [0.01]\n",
      "iter 3 loss_len: 386295.9119318182 loss_len_test: 370337.0 lr: [0.01]\n",
      "iter 4 loss_len: 363165.1789772727 loss_len_test: 351443.84375 lr: [0.01]\n",
      "iter 5 loss_len: 345145.6463068182 loss_len_test: 338273.25 lr: [0.01]\n",
      "iter 100 loss_len: 233187.67670454545 loss_len_test: 230037.625 lr: [0.01]\n",
      "iter 200 loss_len: 221426.86903409092 loss_len_test: 222090.75 lr: [0.01]\n",
      "iter 300 loss_len: 206372.01207386365 loss_len_test: 208401.328125 lr: [0.002]\n",
      "iter 400 loss_len: 201901.08082386362 loss_len_test: 204125.59375 lr: [0.002]\n",
      "iter 500 loss_len: 197990.46875 loss_len_test: 200989.734375 lr: [0.002]\n",
      "iter 600 loss_len: 197140.03082386364 loss_len_test: 198045.640625 lr: [0.0004]\n",
      "iter 700 loss_len: 192765.06164772727 loss_len_test: 197649.890625 lr: [0.0004]\n",
      "iter 800 loss_len: 192378.9299715909 loss_len_test: 197091.84375 lr: [0.0004]\n",
      "iter 900 loss_len: 192930.97088068182 loss_len_test: 196494.578125 lr: [8e-05]\n",
      "iter 1000 loss_len: 193889.46661931818 loss_len_test: 196459.234375 lr: [8e-05]\n"
     ]
    }
   ],
   "source": [
    "import os\n",
    "path = os.environ['HOME'] + \"/data/shared/ltl-transfer-ts/results/miniworld_simp_no_vis_minecraft/mixed_p0.9/lpopl_dsac/map17/0/alpha=0.03/\"\n",
    "matcher = NNClassifier()\n",
    "matcher.load_raw_data(path, 0)\n",
    "print(\"predicted result before train:\", matcher.predict([3, 3, 0]))\n",
    "matcher.train()"
   ]
  },
  {
   "cell_type": "code",
   "execution_count": null,
   "metadata": {},
   "outputs": [],
   "source": []
  },
  {
   "cell_type": "code",
   "execution_count": null,
   "metadata": {},
   "outputs": [],
   "source": []
  },
  {
   "cell_type": "code",
   "execution_count": 4,
   "metadata": {},
   "outputs": [],
   "source": [
    "naive_matcher = NaiveMatcher()\n",
    "naive_matcher.load(path, 0)"
   ]
  },
  {
   "cell_type": "code",
   "execution_count": null,
   "metadata": {},
   "outputs": [],
   "source": []
  },
  {
   "cell_type": "code",
   "execution_count": 5,
   "metadata": {},
   "outputs": [
    {
     "name": "stdout",
     "output_type": "stream",
     "text": [
      "{('!a&!c&!d&!s', '!a&!c&!d&!s'): (0.005457962863147259, 108.30110168457031), ('!a&!c&!d&!s', 'a&!c&!d&!s'): (0.9643616676330566, 108.30110168457031), ('!a&!c&!d&!s', 's&!a&!c&!d'): (0.0, 108.30110168457031), ('!a&!c&!d&!s', 'd&!a&!c&!s'): (0.030180349946022034, 108.30110168457031), ('!a&!c&!d&!s', 'c&!a&!d&!s'): (0.0, 108.30110168457031)}\n",
      "{('!a&!c&!d&!s', 'a&!c&!d&!s'): (0.8571428571428571, 14.166666666666666), ('!a&!c&!d&!s', 'd&!a&!c&!s'): (0.14285714285714285, 19.0)}\n"
     ]
    }
   ],
   "source": [
    "x, y, angle = 3, 3, 0\n",
    "print(matcher.predict([x, y, angle]))\n",
    "print(naive_matcher.predict([x, y, angle]))"
   ]
  },
  {
   "cell_type": "code",
   "execution_count": 6,
   "metadata": {},
   "outputs": [],
   "source": [
    "matcher.save(path, 0)"
   ]
  },
  {
   "cell_type": "code",
   "execution_count": 8,
   "metadata": {},
   "outputs": [],
   "source": [
    "matcher = NNClassifier()\n",
    "matcher.load(path, 0)"
   ]
  },
  {
   "cell_type": "code",
   "execution_count": 9,
   "metadata": {},
   "outputs": [
    {
     "name": "stdout",
     "output_type": "stream",
     "text": [
      "{('!a&!c&!d&!s', '!a&!c&!d&!s'): (0.005457962863147259, 108.30110168457031), ('!a&!c&!d&!s', 'a&!c&!d&!s'): (0.9643616676330566, 108.30110168457031), ('!a&!c&!d&!s', 's&!a&!c&!d'): (0.0, 108.30110168457031), ('!a&!c&!d&!s', 'd&!a&!c&!s'): (0.030180349946022034, 108.30110168457031), ('!a&!c&!d&!s', 'c&!a&!d&!s'): (0.0, 108.30110168457031)}\n"
     ]
    }
   ],
   "source": [
    "print(matcher.predict([x, y, angle]))"
   ]
  },
  {
   "cell_type": "code",
   "execution_count": null,
   "metadata": {},
   "outputs": [],
   "source": []
  }
 ],
 "metadata": {
  "kernelspec": {
   "display_name": "ltl",
   "language": "python",
   "name": "python3"
  },
  "language_info": {
   "codemirror_mode": {
    "name": "ipython",
    "version": 3
   },
   "file_extension": ".py",
   "mimetype": "text/x-python",
   "name": "python",
   "nbconvert_exporter": "python",
   "pygments_lexer": "ipython3",
   "version": "3.11.5"
  }
 },
 "nbformat": 4,
 "nbformat_minor": 2
}
