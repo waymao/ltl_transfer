{
 "cells": [
  {
   "cell_type": "code",
   "execution_count": 1,
   "metadata": {},
   "outputs": [],
   "source": [
    "import pandas as pd\n",
    "from matplotlib import pyplot as plt\n",
    "import seaborn as sns\n",
    "sns.set_style(\"dark\")"
   ]
  },
  {
   "cell_type": "code",
   "execution_count": 2,
   "metadata": {},
   "outputs": [],
   "source": [
    "import os\n",
    "os.environ['PYGLET_HEADLESS'] = \"true\""
   ]
  },
  {
   "cell_type": "code",
   "execution_count": 3,
   "metadata": {},
   "outputs": [],
   "source": [
    "policy_num = 5\n",
    "map_num = 21\n",
    "train_set = \"individual\"\n",
    "seed = 42"
   ]
  },
  {
   "cell_type": "markdown",
   "metadata": {},
   "source": []
  },
  {
   "cell_type": "code",
   "execution_count": 4,
   "metadata": {},
   "outputs": [
    {
     "name": "stdout",
     "output_type": "stream",
     "text": [
      "Renderer Vendor: NVIDIA Corporation\n",
      "Renderer Hardware: NVIDIA GeForce RTX 4090/PCIe/SSE2\n"
     ]
    }
   ],
   "source": [
    "from envs.miniworld.constants import OBJ_MAP, OBSTACLE_MARKER, BLOCK_SCALE, OBJECT_SIZE\n",
    "obs_offset = BLOCK_SCALE / 2\n",
    "sq_offset = OBJECT_SIZE * BLOCK_SCALE / 2\n",
    "def read_miniworld_map(map_file):\n",
    "    shapes = []\n",
    "    height = 0\n",
    "    width = 0\n",
    "    with open(map_file, 'r') as f:\n",
    "        map_mat = f.readlines()\n",
    "    size = len(map_mat)\n",
    "    print(size)\n",
    "    for i, l in enumerate(map_mat):\n",
    "        # I don't consider empty lines!\n",
    "        l_stripped = l.rstrip()\n",
    "        if len(l.rstrip()) == 0: continue\n",
    "\n",
    "        # this is not an empty line!\n",
    "        height += 1\n",
    "        for j, e in enumerate(l_stripped):\n",
    "            if e in OBJ_MAP.keys():\n",
    "                Entity, color = OBJ_MAP[e]\n",
    "                if color == \"yellow\": color = \"orange\"\n",
    "                if e == OBSTACLE_MARKER:\n",
    "                    shapes.append(plt.Rectangle((j - obs_offset, size - 1 - i - obs_offset), BLOCK_SCALE, BLOCK_SCALE, fc=color))\n",
    "                elif Entity.__name__ == \"Ball\":\n",
    "                    shapes.append(plt.Circle((j, size - 1 - i), BLOCK_SCALE * OBJECT_SIZE / 2, fc=color))\n",
    "                elif Entity.__name__ == \"Box\":\n",
    "                    shapes.append(plt.Rectangle((j - sq_offset, size - 1 - i - sq_offset), BLOCK_SCALE * OBJECT_SIZE, BLOCK_SCALE * OBJECT_SIZE, fc=color))\n",
    "\n",
    "        width = max(width, len(l_stripped))\n",
    "    return shapes, height, width"
   ]
  },
  {
   "cell_type": "markdown",
   "metadata": {},
   "source": []
  },
  {
   "cell_type": "code",
   "execution_count": 5,
   "metadata": {},
   "outputs": [],
   "source": [
    "# df = pd.read_csv(\"success_map copy.csv\")\n",
    "# df = pd.read_csv(\"results/miniworld_minecraft/sequence_p1.0/lpopl_dsac/map10/6/success_map.csv\")\n",
    "\n",
    "import json\n",
    "import gzip\n",
    "\n",
    "# path = os.environ['HOME'] + f\"/data/shared/ltl-transfer-ts/saves/miniworld_simp_no_vis_spot_p1.0/{train_set}_50/dsac/map{map_num}/0/classifier/uniform_seed{seed}/policy{policy_num}_rollout.json.gz\"\n",
    "path = f\"../saves/miniworld_simp_no_vis_spot_p1.0/{train_set}_50/dsac/map{map_num}/0/classifier/uniform_seed{seed}_det_eval/policy{policy_num}_rollout.json.gz\"\n",
    "\n",
    "with gzip.open(path, 'rt') as fp:\n",
    "    data = json.load(fp)\n",
    "\n",
    "df_orig = pd.DataFrame.from_dict(\n",
    "    data['results'], \n",
    "    orient='index')"
   ]
  },
  {
   "cell_type": "code",
   "execution_count": 6,
   "metadata": {},
   "outputs": [
    {
     "data": {
      "text/html": [
       "<div>\n",
       "<style scoped>\n",
       "    .dataframe tbody tr th:only-of-type {\n",
       "        vertical-align: middle;\n",
       "    }\n",
       "\n",
       "    .dataframe tbody tr th {\n",
       "        vertical-align: top;\n",
       "    }\n",
       "\n",
       "    .dataframe thead th {\n",
       "        text-align: right;\n",
       "    }\n",
       "</style>\n",
       "<table border=\"1\" class=\"dataframe\">\n",
       "  <thead>\n",
       "    <tr style=\"text-align: right;\">\n",
       "      <th></th>\n",
       "      <th>success</th>\n",
       "      <th>true_proposition</th>\n",
       "      <th>steps</th>\n",
       "      <th>final_state</th>\n",
       "      <th>self_edge</th>\n",
       "      <th>edge</th>\n",
       "      <th>x</th>\n",
       "      <th>y</th>\n",
       "      <th>angle</th>\n",
       "    </tr>\n",
       "  </thead>\n",
       "  <tbody>\n",
       "    <tr>\n",
       "      <th>0</th>\n",
       "      <td>False</td>\n",
       "      <td></td>\n",
       "      <td>1500</td>\n",
       "      <td>[2.74577744888098, 1.168933982822018, 45.0]</td>\n",
       "      <td>!a&amp;!b&amp;!c&amp;!d&amp;!e&amp;!f</td>\n",
       "      <td>!a&amp;!b&amp;!c&amp;!d&amp;!e&amp;!f</td>\n",
       "      <td>2.25</td>\n",
       "      <td>1.5</td>\n",
       "      <td>0.0</td>\n",
       "    </tr>\n",
       "    <tr>\n",
       "      <th>1</th>\n",
       "      <td>False</td>\n",
       "      <td></td>\n",
       "      <td>1500</td>\n",
       "      <td>[3.4242640687119277, 1.0757359312880714, 45.0]</td>\n",
       "      <td>!a&amp;!b&amp;!c&amp;!d&amp;!e&amp;!f</td>\n",
       "      <td>!a&amp;!b&amp;!c&amp;!d&amp;!e&amp;!f</td>\n",
       "      <td>3.00</td>\n",
       "      <td>1.5</td>\n",
       "      <td>0.0</td>\n",
       "    </tr>\n",
       "    <tr>\n",
       "      <th>2</th>\n",
       "      <td>False</td>\n",
       "      <td></td>\n",
       "      <td>1500</td>\n",
       "      <td>[3.737132034355964, 1.15796415507637, 60.0]</td>\n",
       "      <td>!a&amp;!b&amp;!c&amp;!d&amp;!e&amp;!f</td>\n",
       "      <td>!a&amp;!b&amp;!c&amp;!d&amp;!e&amp;!f</td>\n",
       "      <td>3.75</td>\n",
       "      <td>1.5</td>\n",
       "      <td>0.0</td>\n",
       "    </tr>\n",
       "    <tr>\n",
       "      <th>3</th>\n",
       "      <td>False</td>\n",
       "      <td></td>\n",
       "      <td>1500</td>\n",
       "      <td>[3.7371320343559624, 1.15796415507637, 60.0]</td>\n",
       "      <td>!a&amp;!b&amp;!c&amp;!d&amp;!e&amp;!f</td>\n",
       "      <td>!a&amp;!b&amp;!c&amp;!d&amp;!e&amp;!f</td>\n",
       "      <td>4.50</td>\n",
       "      <td>1.5</td>\n",
       "      <td>0.0</td>\n",
       "    </tr>\n",
       "    <tr>\n",
       "      <th>4</th>\n",
       "      <td>False</td>\n",
       "      <td></td>\n",
       "      <td>1500</td>\n",
       "      <td>[3.7371320343559606, 1.15796415507637, 60.0]</td>\n",
       "      <td>!a&amp;!b&amp;!c&amp;!d&amp;!e&amp;!f</td>\n",
       "      <td>!a&amp;!b&amp;!c&amp;!d&amp;!e&amp;!f</td>\n",
       "      <td>5.25</td>\n",
       "      <td>1.5</td>\n",
       "      <td>0.0</td>\n",
       "    </tr>\n",
       "    <tr>\n",
       "      <th>...</th>\n",
       "      <td>...</td>\n",
       "      <td>...</td>\n",
       "      <td>...</td>\n",
       "      <td>...</td>\n",
       "      <td>...</td>\n",
       "      <td>...</td>\n",
       "      <td>...</td>\n",
       "      <td>...</td>\n",
       "      <td>...</td>\n",
       "    </tr>\n",
       "    <tr>\n",
       "      <th>1150</th>\n",
       "      <td>False</td>\n",
       "      <td></td>\n",
       "      <td>1500</td>\n",
       "      <td>[10.5, 13.5, 344.99999999999994]</td>\n",
       "      <td>!a&amp;!b&amp;!c&amp;!d&amp;!e&amp;!f</td>\n",
       "      <td>!a&amp;!b&amp;!c&amp;!d&amp;!e&amp;!f</td>\n",
       "      <td>10.50</td>\n",
       "      <td>13.5</td>\n",
       "      <td>270.0</td>\n",
       "    </tr>\n",
       "    <tr>\n",
       "      <th>1151</th>\n",
       "      <td>False</td>\n",
       "      <td></td>\n",
       "      <td>1500</td>\n",
       "      <td>[11.25, 13.5, 344.99999999999994]</td>\n",
       "      <td>!a&amp;!b&amp;!c&amp;!d&amp;!e&amp;!f</td>\n",
       "      <td>!a&amp;!b&amp;!c&amp;!d&amp;!e&amp;!f</td>\n",
       "      <td>11.25</td>\n",
       "      <td>13.5</td>\n",
       "      <td>270.0</td>\n",
       "    </tr>\n",
       "    <tr>\n",
       "      <th>1152</th>\n",
       "      <td>False</td>\n",
       "      <td></td>\n",
       "      <td>1500</td>\n",
       "      <td>[12.0, 13.5, 329.99999999999994]</td>\n",
       "      <td>!a&amp;!b&amp;!c&amp;!d&amp;!e&amp;!f</td>\n",
       "      <td>!a&amp;!b&amp;!c&amp;!d&amp;!e&amp;!f</td>\n",
       "      <td>12.00</td>\n",
       "      <td>13.5</td>\n",
       "      <td>270.0</td>\n",
       "    </tr>\n",
       "    <tr>\n",
       "      <th>1153</th>\n",
       "      <td>False</td>\n",
       "      <td></td>\n",
       "      <td>1500</td>\n",
       "      <td>[12.75, 13.5, 270.0]</td>\n",
       "      <td>!a&amp;!b&amp;!c&amp;!d&amp;!e&amp;!f</td>\n",
       "      <td>!a&amp;!b&amp;!c&amp;!d&amp;!e&amp;!f</td>\n",
       "      <td>12.75</td>\n",
       "      <td>13.5</td>\n",
       "      <td>270.0</td>\n",
       "    </tr>\n",
       "    <tr>\n",
       "      <th>1154</th>\n",
       "      <td>False</td>\n",
       "      <td></td>\n",
       "      <td>1500</td>\n",
       "      <td>[13.5, 13.5, 270.0]</td>\n",
       "      <td>!a&amp;!b&amp;!c&amp;!d&amp;!e&amp;!f</td>\n",
       "      <td>!a&amp;!b&amp;!c&amp;!d&amp;!e&amp;!f</td>\n",
       "      <td>13.50</td>\n",
       "      <td>13.5</td>\n",
       "      <td>270.0</td>\n",
       "    </tr>\n",
       "  </tbody>\n",
       "</table>\n",
       "<p>1155 rows × 9 columns</p>\n",
       "</div>"
      ],
      "text/plain": [
       "      success true_proposition  steps  \\\n",
       "0       False                    1500   \n",
       "1       False                    1500   \n",
       "2       False                    1500   \n",
       "3       False                    1500   \n",
       "4       False                    1500   \n",
       "...       ...              ...    ...   \n",
       "1150    False                    1500   \n",
       "1151    False                    1500   \n",
       "1152    False                    1500   \n",
       "1153    False                    1500   \n",
       "1154    False                    1500   \n",
       "\n",
       "                                         final_state          self_edge  \\\n",
       "0        [2.74577744888098, 1.168933982822018, 45.0]  !a&!b&!c&!d&!e&!f   \n",
       "1     [3.4242640687119277, 1.0757359312880714, 45.0]  !a&!b&!c&!d&!e&!f   \n",
       "2        [3.737132034355964, 1.15796415507637, 60.0]  !a&!b&!c&!d&!e&!f   \n",
       "3       [3.7371320343559624, 1.15796415507637, 60.0]  !a&!b&!c&!d&!e&!f   \n",
       "4       [3.7371320343559606, 1.15796415507637, 60.0]  !a&!b&!c&!d&!e&!f   \n",
       "...                                              ...                ...   \n",
       "1150                [10.5, 13.5, 344.99999999999994]  !a&!b&!c&!d&!e&!f   \n",
       "1151               [11.25, 13.5, 344.99999999999994]  !a&!b&!c&!d&!e&!f   \n",
       "1152                [12.0, 13.5, 329.99999999999994]  !a&!b&!c&!d&!e&!f   \n",
       "1153                            [12.75, 13.5, 270.0]  !a&!b&!c&!d&!e&!f   \n",
       "1154                             [13.5, 13.5, 270.0]  !a&!b&!c&!d&!e&!f   \n",
       "\n",
       "                   edge      x     y  angle  \n",
       "0     !a&!b&!c&!d&!e&!f   2.25   1.5    0.0  \n",
       "1     !a&!b&!c&!d&!e&!f   3.00   1.5    0.0  \n",
       "2     !a&!b&!c&!d&!e&!f   3.75   1.5    0.0  \n",
       "3     !a&!b&!c&!d&!e&!f   4.50   1.5    0.0  \n",
       "4     !a&!b&!c&!d&!e&!f   5.25   1.5    0.0  \n",
       "...                 ...    ...   ...    ...  \n",
       "1150  !a&!b&!c&!d&!e&!f  10.50  13.5  270.0  \n",
       "1151  !a&!b&!c&!d&!e&!f  11.25  13.5  270.0  \n",
       "1152  !a&!b&!c&!d&!e&!f  12.00  13.5  270.0  \n",
       "1153  !a&!b&!c&!d&!e&!f  12.75  13.5  270.0  \n",
       "1154  !a&!b&!c&!d&!e&!f  13.50  13.5  270.0  \n",
       "\n",
       "[1155 rows x 9 columns]"
      ]
     },
     "execution_count": 6,
     "metadata": {},
     "output_type": "execute_result"
    }
   ],
   "source": [
    "df = df_orig.reset_index()\n",
    "df['x'] = df['index'].apply(lambda x: x.split(', ')[0]).astype(float)\n",
    "df['y'] = df['index'].apply(lambda x: x.split(', ')[1]).astype(float)\n",
    "df['angle'] = df['index'].apply(lambda x: x.split(', ')[2]).astype(float)\n",
    "del df['index']\n",
    "df"
   ]
  },
  {
   "cell_type": "code",
   "execution_count": 7,
   "metadata": {},
   "outputs": [
    {
     "name": "stdout",
     "output_type": "stream",
     "text": [
      "15\n"
     ]
    }
   ],
   "source": [
    "from envs.miniworld.world import BLOCK_SCALE\n",
    "map_file = f\"../experiments/maps/map_{map_num}.txt\"\n",
    "offset = 0.5\n",
    "shapes, height, width = read_miniworld_map(map_file)\n",
    "\n",
    "df_rot = df.copy()\n",
    "df_rot['x'] = df_rot['x'] * BLOCK_SCALE\n",
    "df_rot['y'] = height - df_rot['y'] * BLOCK_SCALE - 1\n",
    "# df_rot['i'] = height - df_rot['i'] - 1\n",
    "# df_rot['j'] = width - df_rot['j']"
   ]
  },
  {
   "cell_type": "code",
   "execution_count": 8,
   "metadata": {},
   "outputs": [
    {
     "data": {
      "text/html": [
       "<div>\n",
       "<style scoped>\n",
       "    .dataframe tbody tr th:only-of-type {\n",
       "        vertical-align: middle;\n",
       "    }\n",
       "\n",
       "    .dataframe tbody tr th {\n",
       "        vertical-align: top;\n",
       "    }\n",
       "\n",
       "    .dataframe thead th {\n",
       "        text-align: right;\n",
       "    }\n",
       "</style>\n",
       "<table border=\"1\" class=\"dataframe\">\n",
       "  <thead>\n",
       "    <tr style=\"text-align: right;\">\n",
       "      <th></th>\n",
       "      <th>success</th>\n",
       "      <th>true_proposition</th>\n",
       "      <th>steps</th>\n",
       "      <th>final_state</th>\n",
       "      <th>self_edge</th>\n",
       "      <th>edge</th>\n",
       "      <th>x</th>\n",
       "      <th>y</th>\n",
       "      <th>angle</th>\n",
       "    </tr>\n",
       "  </thead>\n",
       "  <tbody>\n",
       "    <tr>\n",
       "      <th>0</th>\n",
       "      <td>False</td>\n",
       "      <td></td>\n",
       "      <td>1500</td>\n",
       "      <td>[2.74577744888098, 1.168933982822018, 45.0]</td>\n",
       "      <td>!a&amp;!b&amp;!c&amp;!d&amp;!e&amp;!f</td>\n",
       "      <td>!a&amp;!b&amp;!c&amp;!d&amp;!e&amp;!f</td>\n",
       "      <td>2.25</td>\n",
       "      <td>1.5</td>\n",
       "      <td>0.0</td>\n",
       "    </tr>\n",
       "    <tr>\n",
       "      <th>1</th>\n",
       "      <td>False</td>\n",
       "      <td></td>\n",
       "      <td>1500</td>\n",
       "      <td>[3.4242640687119277, 1.0757359312880714, 45.0]</td>\n",
       "      <td>!a&amp;!b&amp;!c&amp;!d&amp;!e&amp;!f</td>\n",
       "      <td>!a&amp;!b&amp;!c&amp;!d&amp;!e&amp;!f</td>\n",
       "      <td>3.00</td>\n",
       "      <td>1.5</td>\n",
       "      <td>0.0</td>\n",
       "    </tr>\n",
       "    <tr>\n",
       "      <th>2</th>\n",
       "      <td>False</td>\n",
       "      <td></td>\n",
       "      <td>1500</td>\n",
       "      <td>[3.737132034355964, 1.15796415507637, 60.0]</td>\n",
       "      <td>!a&amp;!b&amp;!c&amp;!d&amp;!e&amp;!f</td>\n",
       "      <td>!a&amp;!b&amp;!c&amp;!d&amp;!e&amp;!f</td>\n",
       "      <td>3.75</td>\n",
       "      <td>1.5</td>\n",
       "      <td>0.0</td>\n",
       "    </tr>\n",
       "    <tr>\n",
       "      <th>3</th>\n",
       "      <td>False</td>\n",
       "      <td></td>\n",
       "      <td>1500</td>\n",
       "      <td>[3.7371320343559624, 1.15796415507637, 60.0]</td>\n",
       "      <td>!a&amp;!b&amp;!c&amp;!d&amp;!e&amp;!f</td>\n",
       "      <td>!a&amp;!b&amp;!c&amp;!d&amp;!e&amp;!f</td>\n",
       "      <td>4.50</td>\n",
       "      <td>1.5</td>\n",
       "      <td>0.0</td>\n",
       "    </tr>\n",
       "    <tr>\n",
       "      <th>4</th>\n",
       "      <td>False</td>\n",
       "      <td></td>\n",
       "      <td>1500</td>\n",
       "      <td>[3.7371320343559606, 1.15796415507637, 60.0]</td>\n",
       "      <td>!a&amp;!b&amp;!c&amp;!d&amp;!e&amp;!f</td>\n",
       "      <td>!a&amp;!b&amp;!c&amp;!d&amp;!e&amp;!f</td>\n",
       "      <td>5.25</td>\n",
       "      <td>1.5</td>\n",
       "      <td>0.0</td>\n",
       "    </tr>\n",
       "  </tbody>\n",
       "</table>\n",
       "</div>"
      ],
      "text/plain": [
       "   success true_proposition  steps  \\\n",
       "0    False                    1500   \n",
       "1    False                    1500   \n",
       "2    False                    1500   \n",
       "3    False                    1500   \n",
       "4    False                    1500   \n",
       "\n",
       "                                      final_state          self_edge  \\\n",
       "0     [2.74577744888098, 1.168933982822018, 45.0]  !a&!b&!c&!d&!e&!f   \n",
       "1  [3.4242640687119277, 1.0757359312880714, 45.0]  !a&!b&!c&!d&!e&!f   \n",
       "2     [3.737132034355964, 1.15796415507637, 60.0]  !a&!b&!c&!d&!e&!f   \n",
       "3    [3.7371320343559624, 1.15796415507637, 60.0]  !a&!b&!c&!d&!e&!f   \n",
       "4    [3.7371320343559606, 1.15796415507637, 60.0]  !a&!b&!c&!d&!e&!f   \n",
       "\n",
       "                edge     x    y  angle  \n",
       "0  !a&!b&!c&!d&!e&!f  2.25  1.5    0.0  \n",
       "1  !a&!b&!c&!d&!e&!f  3.00  1.5    0.0  \n",
       "2  !a&!b&!c&!d&!e&!f  3.75  1.5    0.0  \n",
       "3  !a&!b&!c&!d&!e&!f  4.50  1.5    0.0  \n",
       "4  !a&!b&!c&!d&!e&!f  5.25  1.5    0.0  "
      ]
     },
     "execution_count": 8,
     "metadata": {},
     "output_type": "execute_result"
    }
   ],
   "source": [
    "df.head()"
   ]
  },
  {
   "cell_type": "code",
   "execution_count": 9,
   "metadata": {},
   "outputs": [],
   "source": [
    "a = data['ltl']"
   ]
  },
  {
   "cell_type": "code",
   "execution_count": 10,
   "metadata": {},
   "outputs": [],
   "source": [
    "from ltl.ltl_utils import convert_ltl"
   ]
  },
  {
   "cell_type": "code",
   "execution_count": 11,
   "metadata": {},
   "outputs": [
    {
     "data": {
      "text/plain": [
       "'F(a) & F(b) & F(d) & F(e) & F(a & F(d))'"
      ]
     },
     "execution_count": 11,
     "metadata": {},
     "output_type": "execute_result"
    }
   ],
   "source": [
    "convert_ltl([\"and\", [\"until\", \"True\", \"a\"], [\"and\", [\"until\", \"True\", \"b\"], [\"and\", [\"until\", \"True\", \"d\"], [\"and\", [\"until\", \"True\", \"e\"], [\"and\", [\"until\", \"True\", [\"and\", \"a\", [\"until\", \"True\", \"d\"]]]]]]]])"
   ]
  },
  {
   "cell_type": "code",
   "execution_count": 12,
   "metadata": {},
   "outputs": [
    {
     "data": {
      "text/plain": [
       "'F(f) & G(!e & !d & !c & !b & !a)'"
      ]
     },
     "execution_count": 12,
     "metadata": {},
     "output_type": "execute_result"
    }
   ],
   "source": [
    "convert_ltl(a)"
   ]
  },
  {
   "cell_type": "code",
   "execution_count": 13,
   "metadata": {},
   "outputs": [
    {
     "data": {
      "text/plain": [
       "Index(['!a&!b&!c&!d&!e&!f', 'a|b|c|d|e', 'f&!a&!b&!c&!d&!e'], dtype='object', name='edge')"
      ]
     },
     "execution_count": 13,
     "metadata": {},
     "output_type": "execute_result"
    }
   ],
   "source": [
    "df_rot['edge'].value_counts().keys()"
   ]
  },
  {
   "cell_type": "code",
   "execution_count": 14,
   "metadata": {},
   "outputs": [],
   "source": [
    "df_rot_new = df_rot.copy()\n",
    "if \"uniform\" in path:\n",
    "    df_rot_new.loc[df_rot_new['angle'] == 0, 'x'] += 0.15\n",
    "    df_rot_new.loc[df_rot_new['angle'] == 90, 'y'] += 0.15\n",
    "    df_rot_new.loc[df_rot_new['angle'] == 180, 'x'] -= 0.15\n",
    "    df_rot_new.loc[df_rot_new['angle'] == 270, 'y'] -= 0.15"
   ]
  },
  {
   "cell_type": "code",
   "execution_count": 15,
   "metadata": {},
   "outputs": [],
   "source": [
    "# df_success = df_rot[df_rot['success']]\n",
    "# # df_half = df[df['final_ltl'] != df['task']]\n",
    "# shapes, height, width = read_miniworld_map(map_file)\n",
    "\n",
    "# ax = sns.scatterplot(data=df_rot_new, x=\"x\", y=\"y\", hue=\"edge\", legend=\"brief\", marker='.')\n",
    "# sns.move_legend(ax, 'upper left', bbox_to_anchor=(1, 1))\n",
    "# for shape in shapes:\n",
    "#     plt.gca().add_patch(shape)\n",
    "# ax.set_xlim([-obs_offset, width-obs_offset])\n",
    "# ax.set_ylim([-obs_offset, height-obs_offset])\n",
    "# ax.set_aspect('equal', adjustable='box')\n",
    "# ax.set_yticklabels([])\n",
    "# ax.set_xticklabels([])\n",
    "# plt.title(\"Success map for \" + convert_ltl(a))\n",
    "# # plt.text(\"\")\n",
    "# plt.show()"
   ]
  },
  {
   "cell_type": "code",
   "execution_count": null,
   "metadata": {},
   "outputs": [],
   "source": []
  },
  {
   "cell_type": "code",
   "execution_count": 16,
   "metadata": {},
   "outputs": [
    {
     "name": "stdout",
     "output_type": "stream",
     "text": [
      "15\n",
      "Box\n"
     ]
    },
    {
     "data": {
      "image/png": "[encoded data removed]",
      "text/plain": [
       "<Figure size 640x480 with 1 Axes>"
      ]
     },
     "metadata": {},
     "output_type": "display_data"
    }
   ],
   "source": [
    "from envs.miniworld.constants import OBJ_MAP\n",
    "\n",
    "df_success = df_rot_new[df_rot_new['success']]\n",
    "# df_half = df[df['final_ltl'] != df['task']]\n",
    "shapes, height, width = read_miniworld_map(map_file)\n",
    "\n",
    "fig, ax = plt.subplots()\n",
    "\n",
    "for edge in df_rot_new['edge'].value_counts().keys():\n",
    "    # marker\n",
    "    if edge[0] == \"!\":\n",
    "        marker = \".\"\n",
    "    elif OBJ_MAP[edge[0]][0].__name__ == \"Ball\":\n",
    "        marker = \"o\"\n",
    "    else:\n",
    "        print(OBJ_MAP[edge[0]][0].__name__)\n",
    "        marker = \"s\"\n",
    "    \n",
    "    # color\n",
    "    if edge[0] != \"!\":\n",
    "        color = OBJ_MAP[edge[0]][1]\n",
    "    else:\n",
    "        color = \"black\"\n",
    "    # change yellow to orange so it's more legible\n",
    "    if color == \"yellow\":\n",
    "        color = \"orange\"\n",
    "    ax = sns.scatterplot(\n",
    "        data=df_rot_new[df_rot_new['edge'] == edge], \n",
    "        x=\"x\", y=\"y\", \n",
    "        c=[color],\n",
    "        marker=marker,\n",
    "        s=15,\n",
    "        ax=ax,\n",
    "        label=edge\n",
    "    )\n",
    "x, y = 4.868740658268291, 9.03990879432740\n",
    "sns.scatterplot(\n",
    "    data=pd.DataFrame({\"x\": [x], \"y\": [y]}),\n",
    "    x=\"x\", y=\"y\", \n",
    "    c=\"red\",\n",
    "    marker=\"*\",\n",
    "    s=50,\n",
    "    ax=ax,\n",
    "    label=\"origin\"\n",
    ")\n",
    "sns.move_legend(ax, 'upper left', bbox_to_anchor=(1, 1))\n",
    "# sns.move_legend(ax, 'upper left', bbox_to_anchor=(1, 1))\n",
    "for shape in shapes:\n",
    "    ax.add_patch(shape)\n",
    "ax.set_xlim([-obs_offset, width-obs_offset])\n",
    "ax.set_ylim([-obs_offset, height-obs_offset])\n",
    "ax.set_aspect('equal', adjustable='box')\n",
    "ax.set_yticklabels([])\n",
    "ax.set_xticklabels([])\n",
    "plt.title(\"Success map for \" + convert_ltl(a))\n",
    "# plt.text(\"\")\n",
    "plt.show()"
   ]
  },
  {
   "cell_type": "code",
   "execution_count": 17,
   "metadata": {},
   "outputs": [
    {
     "data": {
      "text/html": [
       "<div>\n",
       "<style scoped>\n",
       "    .dataframe tbody tr th:only-of-type {\n",
       "        vertical-align: middle;\n",
       "    }\n",
       "\n",
       "    .dataframe tbody tr th {\n",
       "        vertical-align: top;\n",
       "    }\n",
       "\n",
       "    .dataframe thead th {\n",
       "        text-align: right;\n",
       "    }\n",
       "</style>\n",
       "<table border=\"1\" class=\"dataframe\">\n",
       "  <thead>\n",
       "    <tr style=\"text-align: right;\">\n",
       "      <th></th>\n",
       "      <th>x</th>\n",
       "      <th>y</th>\n",
       "    </tr>\n",
       "  </thead>\n",
       "  <tbody>\n",
       "    <tr>\n",
       "      <th>0</th>\n",
       "      <td>5.89872</td>\n",
       "      <td>7.983263</td>\n",
       "    </tr>\n",
       "  </tbody>\n",
       "</table>\n",
       "</div>"
      ],
      "text/plain": [
       "         x         y\n",
       "0  5.89872  7.983263"
      ]
     },
     "execution_count": 17,
     "metadata": {},
     "output_type": "execute_result"
    }
   ],
   "source": [
    "pd.DataFrame({\"x\": [5.898719964775766], \"y\": [7.983263107209622]})"
   ]
  },
  {
   "cell_type": "code",
   "execution_count": null,
   "metadata": {},
   "outputs": [],
   "source": []
  },
  {
   "cell_type": "code",
   "execution_count": null,
   "metadata": {},
   "outputs": [],
   "source": []
  },
  {
   "cell_type": "code",
   "execution_count": null,
   "metadata": {},
   "outputs": [],
   "source": []
  },
  {
   "cell_type": "code",
   "execution_count": 18,
   "metadata": {},
   "outputs": [
    {
     "name": "stdout",
     "output_type": "stream",
     "text": [
      "15\n"
     ]
    },
    {
     "data": {
      "image/png": "[encoded data removed]",
      "text/plain": [
       "<Figure size 640x480 with 1 Axes>"
      ]
     },
     "metadata": {},
     "output_type": "display_data"
    }
   ],
   "source": [
    "from envs.miniworld.constants import OBJ_MAP\n",
    "import numpy as np\n",
    "df_success = df_rot_new[df_rot_new['success']]\n",
    "# df_half = df[df['final_ltl'] != df['task']]\n",
    "shapes, height, width = read_miniworld_map(map_file)\n",
    "\n",
    "fig, ax = plt.subplots()\n",
    "\n",
    "for key, (shape, color) in OBJ_MAP.items():\n",
    "    # marker\n",
    "    if shape.__name__ == \"Ball\":\n",
    "        marker = \"o\"\n",
    "    else:\n",
    "        marker = \"s\"\n",
    "    \n",
    "    # color\n",
    "    # change yellow to orange so it's more legible\n",
    "    if color == \"yellow\":\n",
    "        color = \"orange\"\n",
    "    ax = sns.scatterplot(\n",
    "        data=pd.DataFrame.from_dict(dict(x=[1], y=[1])), \n",
    "        x=\"x\", y=\"y\", \n",
    "        c=[color],\n",
    "        marker=marker,\n",
    "        s=15,\n",
    "        ax=ax,\n",
    "        label=key\n",
    "    )\n",
    "sns.move_legend(ax, 'upper left', bbox_to_anchor=(1, 1))\n",
    "# sns.move_legend(ax, 'upper left', bbox_to_anchor=(1, 1))\n",
    "for shape in shapes:\n",
    "    ax.add_patch(shape)\n",
    "ax.set_xlim([-obs_offset, width-obs_offset])\n",
    "ax.set_ylim([-obs_offset, height-obs_offset])\n",
    "ax.set_aspect('equal', adjustable='box')\n",
    "ax.set_yticklabels([])\n",
    "ax.set_xticklabels([])\n",
    "plt.title(\"Success map for \" + convert_ltl(a))\n",
    "# plt.text(\"\")\n",
    "plt.show()"
   ]
  },
  {
   "cell_type": "code",
   "execution_count": null,
   "metadata": {},
   "outputs": [],
   "source": []
  }
 ],
 "metadata": {
  "kernelspec": {
   "display_name": "ltl",
   "language": "python",
   "name": "python3"
  },
  "language_info": {
   "codemirror_mode": {
    "name": "ipython",
    "version": 3
   },
   "file_extension": ".py",
   "mimetype": "text/x-python",
   "name": "python",
   "nbconvert_exporter": "python",
   "pygments_lexer": "ipython3",
   "version": "3.11.5"
  }
 },
 "nbformat": 4,
 "nbformat_minor": 2
}
